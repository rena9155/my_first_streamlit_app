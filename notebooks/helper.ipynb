{
 "cells": [
  {
   "cell_type": "code",
   "execution_count": null,
   "id": "ee2ae103-1b03-4e0d-a37a-534de3016e42",
   "metadata": {},
   "outputs": [],
   "source": [
    "'''\n",
    "# Another header\n",
    "st.header(\"Maps\")\n",
    "\n",
    "# Sample Streamlit Map\n",
    "st.subheader(\"Streamlit Map\")\n",
    "ds_geo = px.data.carshare()\n",
    "ds_geo['lat'] = ds_geo['centroid_lat']\n",
    "ds_geo['lon'] = ds_geo['centroid_lon']\n",
    "st.map(ds_geo)\n",
    "\n",
    "# Sample Choropleth mapbox using Plotly GO\n",
    "st.subheader(\"Plotly Map\")\n",
    "\n",
    "with urlopen('https://raw.githubusercontent.com/plotly/datasets/master/geojson-counties-fips.json') as response:\n",
    "    counties = json.load(response)\n",
    "df = pd.read_csv(\"https://raw.githubusercontent.com/plotly/datasets/master/fips-unemp-16.csv\",\n",
    "                 dtype={\"fips\": str})\n",
    "\n",
    "plotly_map = go.Figure(go.Choroplethmapbox(geojson=counties,\n",
    "                                           locations=df.fips,\n",
    "                                           z=df.unemp,\n",
    "                                           colorscale=\"Viridis\",\n",
    "                                           zmin=0, zmax=12,\n",
    "                                           marker={\"opacity\": 0.5, \"line_width\": 0}))\n",
    "plotly_map.update_layout(mapbox_style=\"carto-positron\",\n",
    "                         mapbox_zoom=3,\n",
    "                         mapbox_center={\"lat\": 37.0902, \"lon\": -95.7129},\n",
    "                         margin={\"r\": 0, \"t\": 0, \"l\": 0, \"b\": 0})\n",
    "\n",
    "st.plotly_chart(plotly_map)\n",
    "'''"
   ]
  }
 ],
 "metadata": {
  "kernelspec": {
   "display_name": "VIZ",
   "language": "python",
   "name": "viz"
  },
  "language_info": {
   "codemirror_mode": {
    "name": "ipython",
    "version": 3
   },
   "file_extension": ".py",
   "mimetype": "text/x-python",
   "name": "python",
   "nbconvert_exporter": "python",
   "pygments_lexer": "ipython3",
   "version": "3.10.11"
  }
 },
 "nbformat": 4,
 "nbformat_minor": 5
}
